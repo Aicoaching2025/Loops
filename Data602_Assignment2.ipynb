{
  "nbformat": 4,
  "nbformat_minor": 0,
  "metadata": {
    "colab": {
      "provenance": [],
      "authorship_tag": "ABX9TyPsVR4nNCrb3YJFM3aLkly9",
      "include_colab_link": true
    },
    "kernelspec": {
      "name": "python3",
      "display_name": "Python 3"
    },
    "language_info": {
      "name": "python"
    }
  },
  "cells": [
    {
      "cell_type": "markdown",
      "metadata": {
        "id": "view-in-github",
        "colab_type": "text"
      },
      "source": [
        "<a href=\"https://colab.research.google.com/github/Aicoaching2025/Loops/blob/main/Data602_Assignment2.ipynb\" target=\"_parent\"><img src=\"https://colab.research.google.com/assets/colab-badge.svg\" alt=\"Open In Colab\"/></a>"
      ]
    },
    {
      "cell_type": "markdown",
      "source": [
        "#####**Q1**. What will the following code display?\n",
        "numbers = [1, 2, 3, 4, 5]\n",
        "print(numbers[1:-5])"
      ],
      "metadata": {
        "id": "PiRC2Px2i0k6"
      }
    },
    {
      "cell_type": "code",
      "source": [
        "\n",
        "numbers = [1, 2, 3, 4, 5]\n",
        "print(numbers[1:-5])"
      ],
      "metadata": {
        "id": "uitL0a9qjMpp"
      },
      "execution_count": null,
      "outputs": []
    },
    {
      "cell_type": "markdown",
      "source": [
        "#####**Q1 Code Analysis**\n",
        "The code produced an empty list, sinec the indexing starts at the second item in the list but ends at the first item in the list. There is overlap in this slice so the code is not valid and produces an empty list.\n",
        "\n",
        "#####**Debug Strategy: Adjusting Slicing to Return the Full List**\n",
        "If the output is the entire list, then the slice should be [:].\n",
        "\n"
      ],
      "metadata": {
        "id": "lHpALYoejTzj"
      }
    },
    {
      "cell_type": "code",
      "source": [
        "numbers = [1, 2, 3, 4, 5]\n",
        "print(numbers[:])"
      ],
      "metadata": {
        "id": "HyZauU1mmOsh"
      },
      "execution_count": null,
      "outputs": []
    },
    {
      "cell_type": "markdown",
      "source": [
        "The complete list is printed in the debugged version of the code."
      ],
      "metadata": {
        "id": "dAdy9yafmUd5"
      }
    },
    {
      "cell_type": "markdown",
      "source": [
        "#####**Q2.** Design a program that asks the user to enter a store’s sales for each day of theweek.\n",
        "\n",
        "The amounts should be stored in a list. Use a loop to calculate the total sales for\n",
        "the week and display the result."
      ],
      "metadata": {
        "id": "oJGxidsVnkZ5"
      }
    },
    {
      "cell_type": "code",
      "source": [
        "sales_list = []\n",
        "\n",
        "# Prompt the user to enter sales for each day of the week\n",
        "print(\"Enter the sales for each day of the week:\")\n",
        "\n",
        "for day in range(1, 8):  # Loop over days 1 to 7 (representing the week)\n",
        "    while True:  # Keep asking until the user enters valid data for the day\n",
        "        sales = input(f\"Enter sales for day {day} (or press Enter to skip): \")\n",
        "\n",
        "        if sales == \"\":  # If the user presses Enter without entering data, skip the day\n",
        "            sales_list.append(None)  # Append None for the skipped day\n",
        "            break  # Exit the loop and move to the next day\n",
        "        try:\n",
        "            # Try to convert the input to a float if the user enters a number\n",
        "            sales = float(sales)\n",
        "            sales_list.append(sales)  # Append valid sales data to the list\n",
        "            break  # Exit the loop once valid data is entered\n",
        "        except ValueError:\n",
        "            print(\"Invalid input. Please enter a valid number for the sales.\")\n",
        "\n",
        "# Calculate the total sales for the week, ignoring skipped days (None)\n",
        "total_sales = sum(s for s in sales_list if s is not None)  # Skip None values\n",
        "\n",
        "# Display the total sales\n",
        "print(f\"\\nTotal sales for the week (excluding skipped days): ${total_sales:.2f}\")\n",
        "\n",
        "# Optionally: Display the full list of sales (with None for skipped days)\n",
        "print(\"\\nSales List for the week:\", sales_list)\n",
        "\n"
      ],
      "metadata": {
        "id": "jDKxgMy3noEY"
      },
      "execution_count": null,
      "outputs": []
    },
    {
      "cell_type": "markdown",
      "source": [
        "#####**Q3** Ordering items in a list\n"
      ],
      "metadata": {
        "id": "LP523gpdsAWw"
      }
    },
    {
      "cell_type": "code",
      "source": [
        "#My dream vacation list\n",
        "my_wish_list = [\"Hawaii\", \"Spain\", \"Ghana\", \"Turkey\", \"Wisconsin\"]\n",
        "print(my_wish_list)\n",
        "\n",
        "#Vacation list sorted\n",
        "my_wish_list.sort()\n",
        "\n",
        "print(my_wish_list)\n",
        "#Vaction list revered\n",
        "\n",
        "my_wish_list.sort(reverse=True)\n",
        "print(my_wish_list)\n"
      ],
      "metadata": {
        "id": "5U8eUC8ezTeV"
      },
      "execution_count": null,
      "outputs": []
    },
    {
      "cell_type": "markdown",
      "source": [
        "####**Q4** Dictionary of courses, classes and rooms\n",
        "Creation of a program to enter a course number and retrieve course details."
      ],
      "metadata": {
        "id": "Gat6gTVw1YLh"
      }
    },
    {
      "cell_type": "code",
      "source": [
        "# Dictionary containing course numbers and their details\n",
        "courses = {\n",
        "    \"CS101\": {\n",
        "        \"room\": \"C8\",\n",
        "        \"instructor\": \"Candace\",\n",
        "        \"meeting_time\": \"9:00 AM - 9:45 AM\"\n",
        "    },\n",
        "    \"MTH112\": {\n",
        "        \"room\": \"Front Auditorium\",\n",
        "        \"instructor\": \"Kunal\",\n",
        "        \"meeting_time\": \"10:45 AM - 11:30 AM\"\n",
        "    },\n",
        "    \"ELEC301\": {\n",
        "        \"room\": \"C2\",\n",
        "        \"instructor\": \"Stephanie\",\n",
        "        \"meeting_time\": \"1:00 PM - 1:45 PM\"\n",
        "    }\n",
        "}\n",
        "\n",
        "# Prompt an instructor to enter a course number.\n",
        "course_number = input(\"Enter a course number (e.g., CS101, MATH245): \")\n",
        "\n",
        "# The program checks if te course number exists and primnts the required info.\n",
        "if course_number in courses:\n",
        "    course = courses[course_number]\n",
        "    print(f\"\\nCourse: {course_number}\")\n",
        "    print(f\"Room: {course['room']}\")\n",
        "    print(f\"Instructor: {course['instructor']}\")\n",
        "    print(f\"Meeting Time: {course['meeting_time']}\")\n",
        "else:\n",
        "    print(\"Course not found!\")\n",
        "\n"
      ],
      "metadata": {
        "id": "ta18cYVGrG4h"
      },
      "execution_count": null,
      "outputs": []
    },
    {
      "cell_type": "markdown",
      "source": [
        "####**Q5** Program to Manage Names and Email Addresses in a Dictionary and make them available for a registrar or other authorized person to modify the list."
      ],
      "metadata": {
        "id": "H-yO2F3u_T66"
      }
    },
    {
      "cell_type": "code",
      "source": [
        "Staff_data = {\n",
        "    \"Candace\": \"candace@academicswest.com\",\n",
        "    \"Leo\": \"leo@academicswest.com\",\n",
        "    \"Stephanie\": \"stephanie@academicswest.com\",\n",
        "    \"Alex\" : \"alex@academicswest.com\",\n",
        "    \"Kunal\": \"kunal@academicswest.com\"\n",
        "}\n",
        "\n",
        "# Initialize the email_dict with the Staff_data\n",
        "email_dict = Staff_data.copy()\n",
        "\n",
        "# Function to look up a person's email address\n",
        "def lookup_email():\n",
        "    name = input(\"Enter the name to look up: \")\n",
        "    if name in email_dict:\n",
        "        print(f\"Email address for {name}: {email_dict[name]}\")\n",
        "    else:\n",
        "        print(f\"{name} is not found in the dictionary.\")\n",
        "\n",
        "# Function to add a new name and email address\n",
        "def add_email():\n",
        "    name = input(\"Enter the name: \")\n",
        "    email = input(\"Enter the email address: \")\n",
        "    email_dict[name] = email\n",
        "    print(f\"Added {name} with email {email}.\")\n",
        "\n",
        "# Function to change an existing email address\n",
        "def change_email():\n",
        "    name = input(\"Enter the name whose email you want to change: \")\n",
        "    if name in email_dict:\n",
        "        new_email = input(\"Enter the new email address: \")\n",
        "        email_dict[name] = new_email\n",
        "        print(f\"Email address for {name} changed to {new_email}.\")\n",
        "    else:\n",
        "        print(f\"{name} is not found in the dictionary.\")\n",
        "\n",
        "# Function to delete a name and email address\n",
        "def delete_email():\n",
        "    name = input(\"Enter the name to delete: \")\n",
        "    if name in email_dict:\n",
        "        del email_dict[name]\n",
        "        print(f\"{name} and their email address have been deleted.\")\n",
        "    else:\n",
        "        print(f\"{name} is not found in the dictionary.\")\n",
        "\n",
        "# Function to display the main menu and prompt user for choice\n",
        "def menu():\n",
        "    while True:\n",
        "        print(\"\\n--- Email Management Menu ---\")\n",
        "        print(\"1. Look up a person's email address\")\n",
        "        print(\"2. Add a new name and email address\")\n",
        "        print(\"3. Change an existing email address\")\n",
        "        print(\"4. Delete an existing name and email address\")\n",
        "        print(\"5. Exit\")\n",
        "\n",
        "        choice = input(\"Enter your choice (1-5): \")\n",
        "\n",
        "        if choice == \"1\":\n",
        "            lookup_email()\n",
        "        elif choice == \"2\":\n",
        "            add_email()\n",
        "        elif choice == \"3\":\n",
        "            change_email()\n",
        "        elif choice == \"4\":\n",
        "            delete_email()\n",
        "        elif choice == \"5\":\n",
        "            print(\"Exiting program...\")\n",
        "            break\n",
        "        else:\n",
        "            print(\"Invalid choice. Please enter a number between 1 and 5.\")\n",
        "\n",
        "# Call the menu function to start the program\n",
        "menu()\n"
      ],
      "metadata": {
        "colab": {
          "base_uri": "https://localhost:8080/"
        },
        "collapsed": true,
        "id": "KeeAKOcr5ycb",
        "outputId": "e0f7117c-f2ba-4f5c-9ba6-4ef79b262e1f"
      },
      "execution_count": null,
      "outputs": [
        {
          "output_type": "stream",
          "name": "stdout",
          "text": [
            "\n",
            "--- Email Management Menu ---\n",
            "1. Look up a person's email address\n",
            "2. Add a new name and email address\n",
            "3. Change an existing email address\n",
            "4. Delete an existing name and email address\n",
            "5. Exit\n",
            "Enter the name to look up: 5\n",
            "5 is not found in the dictionary.\n",
            "\n",
            "--- Email Management Menu ---\n",
            "1. Look up a person's email address\n",
            "2. Add a new name and email address\n",
            "3. Change an existing email address\n",
            "4. Delete an existing name and email address\n",
            "5. Exit\n"
          ]
        }
      ]
    }
  ]
}